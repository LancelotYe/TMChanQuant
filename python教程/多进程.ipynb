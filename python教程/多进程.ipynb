{
 "cells": [
  {
   "cell_type": "code",
   "execution_count": 6,
   "metadata": {},
   "outputs": [
    {
     "name": "stdout",
     "output_type": "stream",
     "text": [
      "Process (64267) start...\n",
      "I (64267) just created a child process (64418).\n",
      "I am child process (64418) and my parent is (64267).\n"
     ]
    }
   ],
   "source": [
    "'''\n",
    "Unix/Linux操作系统提供了一个fork()系统调用，调用一次，返回两次。\n",
    "因为操作系统自动把当前进程（父进程）复制一份（子进程）\n",
    "然后分别在父进程和子进程内返回\n",
    "子进程永远返回0，而父进程返回子进程的ID。这样做的理由，一个父进程可以fork出很多子进程，\n",
    "所以，父进程要记下每个子进程的ID，而子进程只需要调用getppid()就可以拿到父进程的ID。\n",
    "'''\n",
    "import os\n",
    "print('Process (%s) start...' % os.getpid())\n",
    "\n",
    "pid = os.fork()\n",
    "if pid == 0:\n",
    "    print('I am child process (%s) and my parent is (%s).' % (os.getpid(), os.getppid()))\n",
    "else:\n",
    "    print('I (%s) just created a child process (%s).' % (os.getpid(), pid))\n",
    "'''\n",
    "有了fork调用，一个进程在接到新任务时就可以复制出一个子进程来处理新任务，常见Apache服务器就是由父进程监听端口，\n",
    "每当有新的http请求时，就fork出子进程来处理新的http请求。\n",
    "'''"
   ]
  },
  {
   "cell_type": "code",
   "execution_count": 8,
   "metadata": {},
   "outputs": [
    {
     "name": "stdout",
     "output_type": "stream",
     "text": [
      "Parent process 64267.\n",
      "Child process will start.\n",
      "Run child process test (64555)...\n",
      "Child process end.\n"
     ]
    },
    {
     "data": {
      "text/plain": [
       "'\\n创建子进程时，只需要传入一个执行函数和函数的参数，创建一个Process实例，用start()方法启动，\\n这样创建进程比fork()还要简单。\\njoin()方法可以等待子进程结束后再继续往下运行，通常用于进程间的同步。\\n'"
      ]
     },
     "execution_count": 8,
     "metadata": {},
     "output_type": "execute_result"
    }
   ],
   "source": [
    "# multiprocessing\n",
    "'''\n",
    "兼容Windows的跨平台多进程模块。\n",
    "'''\n",
    "from multiprocessing import Process\n",
    "import os\n",
    "# 子进程要执行的代码\n",
    "def run_proc(name):\n",
    "    print('Run child process %s (%s)...' % (name, os.getpid()))\n",
    "\n",
    "if __name__ == '__main__':\n",
    "    print('Parent process %s.' % os.getpid())\n",
    "    p = Process(target=run_proc, args=('test',))\n",
    "    print('Child process will start.')\n",
    "    p.start()\n",
    "    p.join()\n",
    "    print('Child process end.')\n",
    "'''\n",
    "创建子进程时，只需要传入一个执行函数和函数的参数，创建一个Process实例，用start()方法启动，\n",
    "这样创建进程比fork()还要简单。\n",
    "join()方法可以等待子进程结束后再继续往下运行，通常用于进程间的同步。\n",
    "'''"
   ]
  },
  {
   "cell_type": "code",
   "execution_count": 9,
   "metadata": {
    "scrolled": true
   },
   "outputs": [
    {
     "name": "stdout",
     "output_type": "stream",
     "text": [
      "Parent process 64267.\n",
      "Run task 1 (64563)...\n",
      "Run task 0 (64562)...\n",
      "Run task 2 (64564)...\n",
      "Run task 3 (64565)...\n",
      "Waiting for all subprocesses done...\n",
      "Task 3 runs 1.66 seconds.\n",
      "Run task 4 (64565)...\n",
      "Task 2 runs 1.96 seconds.\n",
      "Task 1 runs 2.18 seconds.\n",
      "Task 0 runs 2.53 seconds.\n",
      "Task 4 runs 1.47 seconds.\n",
      "All subprocesses done.\n"
     ]
    }
   ],
   "source": [
    "# Pool\n",
    "from multiprocessing import Pool\n",
    "import os, time, random\n",
    "\n",
    "def long_time_task(name):\n",
    "    print('Run task %s (%s)...' % (name, os.getpid()))\n",
    "    start = time.time()\n",
    "    time.sleep(random.random() *3)\n",
    "    end = time.time()\n",
    "    print('Task %s runs %0.2f seconds.' % (name, (end-start)))\n",
    "\n",
    "if __name__ == '__main__':\n",
    "    print('Parent process %s.' % os.getpid())\n",
    "    p = Pool(4)\n",
    "    for i in range(5):\n",
    "        p.apply_async(long_time_task, args=(i,))\n",
    "    print('Waiting for all subprocesses done...')\n",
    "    p.close()\n",
    "    p.join()\n",
    "    print('All subprocesses done.')\n",
    "'''\n",
    "对Pool对象调用join()方法会等待所有子进程执行完毕，调用join()之前必须先调用close()，\n",
    "调用close()之后就不能继续添加process了。\n",
    "\n",
    "注意输出结果，task0,1,2,3是立刻执行的，因此，最多执行4个进程。\n",
    "\n",
    "由于Pool的默认大小是CPU的核数，如果拥有8核CPU，至少要提交9个子进程才能看到上面的等待效果\n",
    "'''"
   ]
  },
  {
   "cell_type": "code",
   "execution_count": null,
   "metadata": {
    "collapsed": true
   },
   "outputs": [],
   "source": [
    "# 子进程\n",
    "'''\n",
    "很多时候，子进程并不是自身，而是一个外部进程。\n",
    "'''"
   ]
  }
 ],
 "metadata": {
  "kernelspec": {
   "display_name": "Python 3",
   "language": "python",
   "name": "python3"
  },
  "language_info": {
   "codemirror_mode": {
    "name": "ipython",
    "version": 3
   },
   "file_extension": ".py",
   "mimetype": "text/x-python",
   "name": "python",
   "nbconvert_exporter": "python",
   "pygments_lexer": "ipython3",
   "version": "3.6.2"
  }
 },
 "nbformat": 4,
 "nbformat_minor": 2
}

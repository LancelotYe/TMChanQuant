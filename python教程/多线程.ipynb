{
 "cells": [
  {
   "cell_type": "code",
   "execution_count": null,
   "metadata": {},
   "outputs": [],
   "source": [
    "# '''\n",
    "多任务可以由多进程完成，也可以由一个进程内的多线程完成\n",
    "我们前面提到了进程由若干线程组成的，一个进程至少有一个线程。\n",
    "由于线程是操作系统直接支持的执行单位，因此，高级语言通常都内置多线程的支持，python的线程是真正的Posix Thread，而不是模拟出来的线程。\n",
    "Python的标准库提供了两个模块：_thread和threading,_thread是低级模块,threading是高级模块，对_thread进行封装。绝大多数情况下，\n",
    "我们只需要使用threading这个高级模块\n",
    "'''\n",
    "import time,threading\n",
    "\n",
    "#新线程执行的代码\n"
   ]
  }
 ],
 "metadata": {
  "kernelspec": {
   "display_name": "Python 3",
   "language": "python",
   "name": "python3"
  }
 },
 "nbformat": 4,
 "nbformat_minor": 2
}
